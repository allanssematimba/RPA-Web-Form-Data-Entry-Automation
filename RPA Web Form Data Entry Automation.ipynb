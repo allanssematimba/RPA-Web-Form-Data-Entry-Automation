{
 "cells": [
  {
   "cell_type": "markdown",
   "id": "7c12e2fc",
   "metadata": {},
   "source": [
    "# RPA Web Form Data Entry Automation"
   ]
  },
  {
   "cell_type": "markdown",
   "id": "e5741aa0",
   "metadata": {},
   "source": [
    "In today's digital age, automation has become an essential tool for businesses seeking to streamline their operations and improve efficiency. \n",
    "\n",
    "Robotic Process Automation (RPA) is a technology that allows organizations to automate repetitive and mundane tasks, freeing up employees to focus on more strategic and high-value activities. \n",
    "\n",
    "In this project, I will explore the capabilities of the RPA module and how it can be used to automate data entry tasks on a website. I will use the RPA module to read data from an Excel file, perform data entry operations on a web page, and capture the results. \n",
    "\n",
    "Through this project, I will demonstrate how RPA can be a powerful tool for increasing productivity and reducing errors in data entry processes."
   ]
  },
  {
   "cell_type": "code",
   "execution_count": 5,
   "id": "ca0f5906",
   "metadata": {},
   "outputs": [
    {
     "name": "stdout",
     "output_type": "stream",
     "text": [
      "[RPA][INFO] - setting up TagUI for use in your Python environment\n",
      "[RPA][INFO] - downloading TagUI (~200MB) and unzipping to below folder...\n",
      "[RPA][INFO] - C:\\Users\\user.DESKTOP-OMQ89VA\\AppData\\Roaming\n",
      "[RPA][INFO] - done. syncing TagUI with stable cutting edge version\n",
      "[RPA][INFO] - TagUI now ready for use in your Python environment\n"
     ]
    },
    {
     "data": {
      "text/plain": [
       "True"
      ]
     },
     "execution_count": 5,
     "metadata": {},
     "output_type": "execute_result"
    }
   ],
   "source": [
    "import os\n",
    "os.environ['TAGUI_HOME'] = 'C:\\tagui'\n",
    "\n",
    "# Import the necessary modules\n",
    "import rpa as r\n",
    "import pandas as pd\n",
    "\n",
    "# Reads the 'challenge.xlsx' excel file and store the data in the df Pandas DataFrame\n",
    "df= pd.read_excel('challenge.xlsx')\n",
    "\n",
    "# Initialize the RPA process using the rpa module\n",
    "#import sys\n",
    "#sys.path.insert(0, 'C:\\tagui')\n",
    "r.init()\n",
    "#r.init(visual_automation = True, chrome_browser = False, additional_info = {'config_auto_close': False, 'file_directory': })\n",
    "\n",
    "# Navigate to the website and wait for 10 seconds for the page to load\n",
    "r.url('http://www.rpachallenge.com/')\n",
    "r.wait(10)\n",
    "\n",
    "# Locates and click on the 'Start' button on the webpage using an XPath locator\n",
    "r.click('//button[text()=\"Start\"]')\n",
    "\n",
    "# Iterate through each row in the df DataFrame and perform data entry operations on the webpage\n",
    "for index, row in df.iterrows():\n",
    "    r.type('//input[@ng-reflect-name=\"labelFirstName\"]', row['First Name'])\n",
    "    r.type('//input[@ng-reflect-name=\"labelLastName\"]', row['Last Name '])\n",
    "    r.type('//input[@ng-reflect-name=\"labelCompanyName\"]', row['Company Name'])\n",
    "    r.type('//input[@ng-reflect-name=\"labelRole\"]', row['Role in Company'])\n",
    "    r.type('//input[@ng-reflect-name=\"labelAddress\"]', row['Address'])\n",
    "    r.type('//input[@ng-reflect-name=\"labelEmail\"]', row['Email'])\n",
    "    r.type('//input[@ng-reflect-name=\"labelPhone\"]', str(row['Phone Number']))\n",
    "    r.click('//input[@value=\"Submit\"]')\n",
    "\n",
    "# Take a screenshot of the webpage and save it as 'results.png'\n",
    "r.snap('/html/body/app-root/div[2]','results.png')\n",
    "\n",
    "# Stop the RPA process\n",
    "r.close()"
   ]
  }
 ],
 "metadata": {
  "kernelspec": {
   "display_name": "Python 3 (ipykernel)",
   "language": "python",
   "name": "python3"
  },
  "language_info": {
   "codemirror_mode": {
    "name": "ipython",
    "version": 3
   },
   "file_extension": ".py",
   "mimetype": "text/x-python",
   "name": "python",
   "nbconvert_exporter": "python",
   "pygments_lexer": "ipython3",
   "version": "3.9.15"
  }
 },
 "nbformat": 4,
 "nbformat_minor": 5
}
